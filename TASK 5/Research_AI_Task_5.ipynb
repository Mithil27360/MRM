{
 "cells": [
  {
   "cell_type": "code",
   "execution_count": 2,
   "id": "3df16f1f-837e-46de-9713-fd0428d0dc67",
   "metadata": {},
   "outputs": [],
   "source": [
    "import numpy as np\n",
    "import pandas as pd\n",
    "import matplotlib.pyplot as plt\n",
    "import seaborn as sns"
   ]
  },
  {
   "cell_type": "code",
   "execution_count": 3,
   "id": "99312cc1-c822-4bda-9e8b-8b43d49596af",
   "metadata": {},
   "outputs": [],
   "source": [
    "df = pd.read_csv(\"price.csv\")"
   ]
  },
  {
   "cell_type": "code",
   "execution_count": 11,
   "id": "c858d138-3f60-41bd-9f54-b4d665ae3ed6",
   "metadata": {},
   "outputs": [],
   "source": [
    "class LinReg:\n",
    "    def __init__(self, lr=0.01, itr=1000):\n",
    "        self.lr = lr\n",
    "        self.itr = itr\n",
    "        self.w = None\n",
    "        self.b = None\n",
    "        self.loss = []\n",
    "    \n",
    "    def fit(self, X, y):\n",
    "        n = X.shape[0]\n",
    "        m = X.shape[1]\n",
    "        self.w = np.zeros(m)\n",
    "        self.b = 0\n",
    "        \n",
    "        for i in range(self.itr):\n",
    "            yp = np.dot(X, self.w) + self.b\n",
    "            dw = (1/n) * np.dot(X.T, (yp - y))\n",
    "            db = (1/n) * np.sum(yp - y)\n",
    "            self.w -= self.lr * dw\n",
    "            self.b -= self.lr * db\n",
    "            l = np.mean((y - yp) ** 2)\n",
    "            self.loss.append(l)\n",
    "    \n",
    "    def predict(self, X):\n",
    "        return np.dot(X, self.w) + self.b\n"
   ]
  },
  {
   "cell_type": "code",
   "execution_count": 12,
   "id": "25923f3a-130f-4ea4-9a32-f573b7b9af04",
   "metadata": {},
   "outputs": [],
   "source": [
    "def split_data(X, y, ts=0.2, rs=42):\n",
    "    np.random.seed(rs)\n",
    "    idx = np.arange(X.shape[0])\n",
    "    np.random.shuffle(idx)\n",
    "    X = X[idx]\n",
    "    y = y[idx]\n",
    "    sp = int((1 - ts) * X.shape[0])\n",
    "    return X[:sp], X[sp:], y[:sp], y[sp:]\n"
   ]
  },
  {
   "cell_type": "code",
   "execution_count": 16,
   "id": "b4629a11-4e04-4627-89a0-30b26185a64a",
   "metadata": {},
   "outputs": [],
   "source": [
    "def norm(X_tr, X_te):\n",
    "    mn = X_tr.min(axis=0)\n",
    "    mx = X_tr.max(axis=0)\n",
    "    X_tr_n = (X_tr - mn) / (mx - mn + 1e-8)\n",
    "    X_te_n = (X_te - mn) / (mx - mn + 1e-8)\n",
    "    return X_tr_n, X_te_n\n",
    "\n",
    "def rmse(yt, yp):\n",
    "    return np.sqrt(np.mean((yt - yp) ** 2))"
   ]
  },
  {
   "cell_type": "code",
   "execution_count": 13,
   "id": "e5f2c334-62ce-4b80-a65d-94cf0e04d467",
   "metadata": {},
   "outputs": [],
   "source": [
    "df1 = df.drop(columns=['car_ID'])\n",
    "cols = df1.select_dtypes(include=['number']).columns.tolist()\n",
    "cols.remove('price')\n",
    "X1 = df1[cols].values\n",
    "y1 = df1['price'].values\n"
   ]
  },
  {
   "cell_type": "code",
   "execution_count": 14,
   "id": "dc430d11-f1be-4b27-b651-714b2423f9cb",
   "metadata": {},
   "outputs": [
    {
     "name": "stdout",
     "output_type": "stream",
     "text": [
      "Shape: (205, 25)\n",
      "Features: 14\n"
     ]
    }
   ],
   "source": [
    "print(f\"Shape: {df1.shape}\")\n",
    "print(f\"Features: {len(cols)}\")"
   ]
  },
  {
   "cell_type": "code",
   "execution_count": 17,
   "id": "fce0a9cc-ff3c-41c5-b760-abdd11e5df9f",
   "metadata": {},
   "outputs": [],
   "source": [
    "X1_tr, X1_te, y1_tr, y1_te = split_data(X1, y1)\n",
    "X1_tr_n, X1_te_n = norm(X1_tr, X1_te)\n",
    "m1 = LinReg(lr=0.1, itr=2000)\n",
    "m1.fit(X1_tr_n, y1_tr)\n",
    "p1 = m1.predict(X1_te_n)\n",
    "r1 = rmse(y1_te, p1)"
   ]
  },
  {
   "cell_type": "code",
   "execution_count": 19,
   "id": "7b711148-5ed4-479e-8dfc-c1b1bad62002",
   "metadata": {},
   "outputs": [
    {
     "name": "stdout",
     "output_type": "stream",
     "text": [
      "RMSE: 3909.1192057431417\n",
      "Predictions:\n",
      "    Actual     Predicted\n",
      "0  15690.0  22074.822505\n",
      "1  15040.0  18614.907579\n",
      "2  11549.0  13869.375158\n",
      "3  18420.0  19170.015750\n",
      "4  10795.0  12327.221077\n"
     ]
    }
   ],
   "source": [
    "print(\"RMSE:\", r1)\n",
    "print(\"Predictions:\")\n",
    "print(pd.DataFrame({\n",
    "    'Actual': y1_te[:5],\n",
    "    'Predicted': p1[:5]\n",
    "}))"
   ]
  },
  {
   "cell_type": "code",
   "execution_count": 20,
   "id": "60315aa5-3ca4-4e4e-bc04-85c1ca644f6f",
   "metadata": {},
   "outputs": [],
   "source": [
    "#clean"
   ]
  },
  {
   "cell_type": "code",
   "execution_count": 24,
   "id": "c13709e1-a031-4437-bf3e-cd6f60b58aa8",
   "metadata": {},
   "outputs": [],
   "source": [
    "q1 = df1['price'].quantile(0.25)\n",
    "q3 = df1['price'].quantile(0.75)\n",
    "iqr = q3 - q1\n",
    "lb = q1 - 1.5 * iqr\n",
    "ub = q3 + 1.5 * iqr"
   ]
  },
  {
   "cell_type": "code",
   "execution_count": 25,
   "id": "caaad968-feb6-4e6e-aa79-1f7d9121c997",
   "metadata": {},
   "outputs": [],
   "source": [
    "df2 = df1[(df1['price'] >= lb) & (df1['price'] <= ub)]"
   ]
  },
  {
   "cell_type": "code",
   "execution_count": 26,
   "id": "d0ab22a3-f789-4b6e-8561-21cd0de8f842",
   "metadata": {},
   "outputs": [
    {
     "name": "stdout",
     "output_type": "stream",
     "text": [
      "RMSE: 2830.1226626291564\n",
      "Improvement: 1078.9965431139854\n"
     ]
    }
   ],
   "source": [
    "\n",
    "X2 = df2[cols].values\n",
    "y2 = df2['price'].values\n",
    "\n",
    "\n",
    "X2_tr, X2_te, y2_tr, y2_te = split_data(X2, y2)\n",
    "X2_tr_n, X2_te_n = norm(X2_tr, X2_te)\n",
    "\n",
    "\n",
    "m2 = LinReg(lr=0.1, itr=2000)\n",
    "m2.fit(X2_tr_n, y2_tr)\n",
    "\n",
    "\n",
    "p2 = m2.predict(X2_te_n)\n",
    "r2 = rmse(y2_te, p2)\n",
    "\n",
    "print(\"RMSE:\", r2)\n",
    "print(\"Improvement:\", r1 - r2)"
   ]
  },
  {
   "cell_type": "code",
   "execution_count": 33,
   "id": "8bef57f0-60a6-420f-bc68-47194eb35796",
   "metadata": {},
   "outputs": [],
   "source": [
    "def mae(yt, yp):\n",
    "    return np.mean(np.abs(yt - yp))\n",
    "\n",
    "def r2_score(yt, yp):\n",
    "    ss_res = np.sum((yt - yp) ** 2)\n",
    "    ss_tot = np.sum((yt - np.mean(yt)) ** 2)\n",
    "    return 1 - (ss_res / ss_tot)\n"
   ]
  },
  {
   "cell_type": "code",
   "execution_count": 36,
   "id": "f5c27de6-18f9-4da5-b6d8-e6e1ad4abcb6",
   "metadata": {},
   "outputs": [
    {
     "name": "stdout",
     "output_type": "stream",
     "text": [
      "MAE: 2075.909956065818\n",
      "R² Score: 0.7224060470919055\n"
     ]
    }
   ],
   "source": [
    "\n",
    "r2_val = r2_score(y2_te, p2)\n",
    "mae_val = mae(y2_te, p2)\n",
    "\n",
    "\n",
    "print(\"MAE:\", mae_val)\n",
    "print(\"R² Score:\", r2_val)\n"
   ]
  },
  {
   "cell_type": "code",
   "execution_count": 38,
   "id": "2062ccf9-e56a-440c-8493-11b5303031b4",
   "metadata": {},
   "outputs": [
    {
     "data": {
      "image/png": "[encoded data removed]",
      "text/plain": [
       "<Figure size 800x600 with 1 Axes>"
      ]
     },
     "metadata": {},
     "output_type": "display_data"
    }
   ],
   "source": [
    "plt.figure(figsize=(8, 6))\n",
    "plt.scatter(y3_te, p3, alpha=0.6, s=30, color='blue')\n",
    "plt.plot([y3_te.min(), y3_te.max()], [y3_te.min(), y3_te.max()], 'r--', lw=2)\n",
    "plt.xlabel(\"Actual Price ($)\")\n",
    "plt.ylabel(\"Predicted Price ($)\")\n",
    "plt.title(\"Actual vs Predicted Car Prices\")\n",
    "plt.grid(True, alpha=0.3)\n",
    "plt.show()"
   ]
  },
  {
   "cell_type": "code",
   "execution_count": 48,
   "id": "a0f499a8-823b-4b51-9607-800a520a8863",
   "metadata": {},
   "outputs": [
    {
     "name": "stdout",
     "output_type": "stream",
     "text": [
      "    Actual     Predicted    Abs_Error    %_Error\n",
      "0  11694.0  11784.081568    90.081568   0.770323\n",
      "1   8948.0  11522.990612  2574.990612  28.777276\n",
      "2  11595.0   9199.497951  2395.502049  20.659785\n",
      "3  28176.0  21752.945856  6423.054144  22.796189\n",
      "4   8495.0  10439.914041  1944.914041  22.894809\n",
      "\n",
      " Avg Absolute Error: 2130.460143047823\n",
      "\n",
      " Avg % Error: 15.663637348516067\n"
     ]
    }
   ],
   "source": [
    "final_results = pd.DataFrame({\n",
    "    'Actual': y3_te,\n",
    "    'Predicted': p3,\n",
    "    'Abs_Error': np.abs(y3_te - p3),\n",
    "    '%_Error': np.abs(y3_te - p3) / y3_te * 100\n",
    "})\n",
    "\n",
    "print(final_results.head())  # Show first 5 rows\n",
    "\n",
    "\n",
    "print(\"\\n Avg Absolute Error:\", final_results['Abs_Error'].mean())\n",
    "print(\"\\n Avg % Error:\", final_results['%_Error'].mean())\n",
    "\n",
    "\n"
   ]
  },
  {
   "cell_type": "code",
   "execution_count": null,
   "id": "48e755a6-2cc3-4cee-b919-6380a3082131",
   "metadata": {},
   "outputs": [],
   "source": []
  }
 ],
 "metadata": {
  "kernelspec": {
   "display_name": "Python 3 (ipykernel)",
   "language": "python",
   "name": "python3"
  },
  "language_info": {
   "codemirror_mode": {
    "name": "ipython",
    "version": 3
   },
   "file_extension": ".py",
   "mimetype": "text/x-python",
   "name": "python",
   "nbconvert_exporter": "python",
   "pygments_lexer": "ipython3",
   "version": "3.12.7"
  }
 },
 "nbformat": 4,
 "nbformat_minor": 5
}
